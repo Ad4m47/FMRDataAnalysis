{
 "cells": [
  {
   "cell_type": "code",
   "execution_count": 1,
   "metadata": {},
   "outputs": [],
   "source": [
    "import numpy as np\n",
    "import pandas as pd\n",
    "import matplotlib.pyplot as plt\n",
    "import h5py as h5"
   ]
  },
  {
   "cell_type": "code",
   "execution_count": 2,
   "metadata": {},
   "outputs": [],
   "source": [
    "def scan_hdf5(path, recursive=True, tab_step=2):\n",
    "    def scan_node(g, tabs=0):\n",
    "        print(' ' * tabs, g.name)\n",
    "        for k, v in g.items():\n",
    "            if isinstance(v, h5.Dataset):\n",
    "                print(' ' * tabs + ' ' * tab_step + ' -', v.name)\n",
    "            elif isinstance(v, h5.Group) and recursive:\n",
    "                scan_node(v, tabs=tabs + tab_step)\n",
    "    with h5.File(path, 'r') as f:\n",
    "        scan_node(f)\n",
    "\n",
    "\n",
    "def read_and_scan(filename):\n",
    "    scan_hdf5(filename)\n",
    "    h5_file = h5.File(filename)\n",
    "    return h5_file\n",
    "\n",
    "\n",
    "def current_frequency_amplitude(h5_block):\n",
    "    \n",
    "    current_axes = np.asarray(h5_block['entry']['data0']['current'])\n",
    "    frequency_axes = np.asarray(h5_block['entry']['data0']['frequency'])\n",
    "    amplitudes = np.asarray(h5_block['entry']['data0']['amplitude'])\n",
    "    \n",
    "    return current_axes, frequency_axes, amplitudes\n",
    "\n",
    "\n",
    "def current_frequency_mesh(current_axes,frequency_axes):\n",
    "    current_mesh, frequency_mesh = np.meshgrid(current_axes, frequency_axes)\n",
    "    return current_mesh, frequency_mesh\n",
    "\n",
    "\n",
    "def contour_plot(current, frequency, amplitude,maximum_y = 14.5):\n",
    "    params = {'mathtext.default': 'regular' }          \n",
    "    plt.rcParams.update(params)\n",
    "\n",
    "    plt.contourf(current,frequency/1e9, amplitude.T, 1000, cmap = plt.get_cmap('magma_r'))\n",
    "\n",
    "    cbar = plt.colorbar( format = '%.1f')\n",
    "    cbar.set_label(\"$S_{11}$ (Normalised Amplitude)\")\n",
    "    plt.xlabel('Current /A')\n",
    "    plt.ylabel('Frequency /GHz')\n",
    "    plt.ylim(ymax=maximum_y)\n",
    "\n",
    "\n",
    "def main(filename):\n",
    "    h5_file = read_and_scan(filename)\n",
    "    current, frequency, amplitude = current_frequency_amplitude(h5_file)\n",
    "    return current, frequency, amplitude\n",
    "    current, frequency = current_frequency_mesh(current, frequency)\n",
    "    contour_plot(current, frequency, amplitude)"
   ]
  },
  {
   "cell_type": "code",
   "execution_count": 3,
   "metadata": {},
   "outputs": [],
   "source": [
    "sample_filename = (\"3 to 15GHz, -4.1A to 4.1A, sample face down.h5\")\n",
    "non_sample_filename = ('3 to 15GHz, -4.1A to 4.1A, sample face up.h5')\n"
   ]
  },
  {
   "cell_type": "code",
   "execution_count": 15,
   "metadata": {},
   "outputs": [
    {
     "name": "stdout",
     "output_type": "stream",
     "text": [
      " /\n",
      "   /entry\n",
      "     /entry/analysis0\n",
      "     /entry/data0\n",
      "       - /entry/data0/amplitude\n",
      "       - /entry/data0/amplitude_ts\n",
      "       - /entry/data0/current\n",
      "       - /entry/data0/frequency\n",
      "       - /entry/data0/measurement\n",
      "       - /entry/data0/phase\n",
      "       - /entry/data0/phase_ts\n",
      "       - /entry/data0/settings\n",
      "     /entry/views\n",
      " /\n",
      "   /entry\n",
      "     /entry/analysis0\n",
      "     /entry/data0\n",
      "       - /entry/data0/amplitude\n",
      "       - /entry/data0/amplitude_ts\n",
      "       - /entry/data0/current\n",
      "       - /entry/data0/frequency\n",
      "       - /entry/data0/measurement\n",
      "       - /entry/data0/phase\n",
      "       - /entry/data0/phase_ts\n",
      "       - /entry/data0/settings\n",
      "     /entry/views\n"
     ]
    },
    {
     "data": {
      "image/png": "[encoded data removed]",
      "text/plain": [
       "<Figure size 432x288 with 2 Axes>"
      ]
     },
     "metadata": {
      "needs_background": "light"
     },
     "output_type": "display_data"
    }
   ],
   "source": [
    "current, frequency, sample_amplitude = main(sample_filename)\n",
    "_x, _y, bg_amplitude = main(non_sample_filename)\n",
    "\n",
    "foreground_amplitude = sample_amplitude - bg_amplitude\n",
    "\n",
    "contour_plot(current, frequency, bg_amplitude)"
   ]
  },
  {
   "cell_type": "code",
   "execution_count": 10,
   "metadata": {},
   "outputs": [
    {
     "data": {
      "text/plain": [
       "0.1"
      ]
     },
     "execution_count": 10,
     "metadata": {},
     "output_type": "execute_result"
    }
   ],
   "source": [
    "np.min(current)"
   ]
  },
  {
   "cell_type": "code",
   "execution_count": null,
   "metadata": {},
   "outputs": [],
   "source": []
  }
 ],
 "metadata": {
  "kernelspec": {
   "display_name": "Python 3.9.7 ('FMR')",
   "language": "python",
   "name": "python3"
  },
  "language_info": {
   "codemirror_mode": {
    "name": "ipython",
    "version": 3
   },
   "file_extension": ".py",
   "mimetype": "text/x-python",
   "name": "python",
   "nbconvert_exporter": "python",
   "pygments_lexer": "ipython3",
   "version": "3.9.7"
  },
  "orig_nbformat": 4,
  "vscode": {
   "interpreter": {
    "hash": "f757521b403420eba98866102d30ebff36e01fc61a9833cee47beb0392de303d"
   }
  }
 },
 "nbformat": 4,
 "nbformat_minor": 2
}
